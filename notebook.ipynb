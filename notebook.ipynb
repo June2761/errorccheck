{
 "cells": [
  {
   "cell_type": "code",
   "execution_count": 1,
   "metadata": {},
   "outputs": [
    {
     "name": "stdout",
     "output_type": "stream",
     "text": [
      "\n",
      "\n",
      "\u001b[1m> Entering new AgentExecutor chain...\u001b[0m\n",
      "\u001b[32;1m\u001b[1;3m\n",
      "Invoking: `StockMarketSymbolSearchTool` with `{'query': 'Stock Market Symbol for Cloudflare'}`\n",
      "\n",
      "\n",
      "\u001b[0m\u001b[36;1m\u001b[1;3mStocks Cloudflare Inc Cloudflare Inc NET Morningstar Rating Unlock Stock XNYS Rating as of Nov 7, 2023 Summary Chart News Price vs Fair Value Sustainability Trailing Returns Financials... Stock Exchange NYSE Ticker Symbol NET Full Company Profile Financial Performance In 2022, Cloudflare's revenue was $975.24 million, an increase of 48.57% compared to the previous year's $656.43 million. Losses were -$193.38 million, -25.71% less than in 2021. Financial Statements Analyst Forecast Stock analysis for Cloudflare Inc (NET:New York) including stock price, stock chart, company news, key statistics, fundamentals and company profile. ... Market . open. 63.79 +0.71 +1.13 % Summary ... Cloudflare, Inc. - Stock Quote & Chart Stock Quote & Chart Stock Quote NYSE: NET 62.18 Nov 09, 2023 4:00 PM ET Today's Change -2.40 (-3.72%) Today's Volume 3,936,311 Today's Open 65.10 Previous Close 64.58 Intraday High 65.40 Intraday Low 62.02 52 Week High 76.07 52 Week Low 37.56 Pricing delayed by 20 minutes. Last Updated Nov 09, 2023 4:00 PM ET Cloudflare stock has gained 51% in 2023, rebounding from a sell-off in April when it lowered 2023 guidance. X On the stock market today , Cloudflare stock rose 10.5% to close at 70.61.\u001b[0m\u001b[32;1m\u001b[1;3mThe stock market symbol for Cloudflare is NET. \n",
      "\n",
      "As for analyzing if Cloudflare is a potential good investment, here are some key points to consider:\n",
      "\n",
      "1. Financial Performance: Cloudflare has shown strong revenue growth, with a 48.57% increase in revenue in 2022 compared to the previous year. However, it has also reported losses, although the losses decreased by 25.71% in 2022 compared to 2021.\n",
      "\n",
      "2. Stock Performance: Cloudflare's stock has performed well in 2023, gaining 51% so far. It rebounded from a sell-off in April and has shown positive momentum.\n",
      "\n",
      "3. Market Outlook: Cloudflare operates in the cybersecurity and cloud services industry, which is expected to continue growing in the coming years. The increasing reliance on digital infrastructure and the need for robust cybersecurity measures could benefit Cloudflare.\n",
      "\n",
      "4. Analyst Forecasts: It's important to consider the opinions of financial analysts who cover Cloudflare. Analyst forecasts can provide insights into the company's future prospects and growth potential.\n",
      "\n",
      "5. Risk Factors: Like any investment, there are risks associated with investing in Cloudflare. It's important to consider factors such as competition, market volatility, and regulatory changes that could impact the company's performance.\n",
      "\n",
      "It's recommended to conduct further research and analysis, including reviewing the company's financial statements, analyst reports, and market trends, before making an investment decision.\u001b[0m\n",
      "\n",
      "\u001b[1m> Finished chain.\u001b[0m\n"
     ]
    },
    {
     "data": {
      "text/plain": [
       "{'input': \"Give me information on Cloudflare's stock and help me analyze if it's a potential good investment. Also tell me what symbol does the stock have.\",\n",
       " 'output': \"The stock market symbol for Cloudflare is NET. \\n\\nAs for analyzing if Cloudflare is a potential good investment, here are some key points to consider:\\n\\n1. Financial Performance: Cloudflare has shown strong revenue growth, with a 48.57% increase in revenue in 2022 compared to the previous year. However, it has also reported losses, although the losses decreased by 25.71% in 2022 compared to 2021.\\n\\n2. Stock Performance: Cloudflare's stock has performed well in 2023, gaining 51% so far. It rebounded from a sell-off in April and has shown positive momentum.\\n\\n3. Market Outlook: Cloudflare operates in the cybersecurity and cloud services industry, which is expected to continue growing in the coming years. The increasing reliance on digital infrastructure and the need for robust cybersecurity measures could benefit Cloudflare.\\n\\n4. Analyst Forecasts: It's important to consider the opinions of financial analysts who cover Cloudflare. Analyst forecasts can provide insights into the company's future prospects and growth potential.\\n\\n5. Risk Factors: Like any investment, there are risks associated with investing in Cloudflare. It's important to consider factors such as competition, market volatility, and regulatory changes that could impact the company's performance.\\n\\nIt's recommended to conduct further research and analysis, including reviewing the company's financial statements, analyst reports, and market trends, before making an investment decision.\"}"
      ]
     },
     "execution_count": 1,
     "metadata": {},
     "output_type": "execute_result"
    }
   ],
   "source": [
    "from typing import Any, Type\n",
    "from langchain.chat_models import ChatOpenAI\n",
    "from langchain.tools import BaseTool\n",
    "from pydantic import BaseModel, Field\n",
    "from langchain.agents import initialize_agent, AgentType\n",
    "from langchain.utilities import DuckDuckGoSearchAPIWrapper\n",
    "\n",
    "llm = ChatOpenAI(temperature=0.1)\n",
    "\n",
    "\n",
    "class StockMarketSymbolSearchToolArgsSchema(BaseModel):\n",
    "    query: str = Field(\n",
    "        description=\"The query you will search for.Example query: Stock Market Symbol for Apple Company\"\n",
    "    )\n",
    "\n",
    "\n",
    "class StockMarketSymbolSearchTool(BaseTool):\n",
    "    name = \"StockMarketSymbolSearchTool\"\n",
    "    description = \"\"\"\n",
    "    Use this tool to find the stock market symbol for a company.\n",
    "    It takes a query as an argument.\n",
    "    \n",
    "    \"\"\"\n",
    "    args_schema: Type[\n",
    "        StockMarketSymbolSearchToolArgsSchema\n",
    "    ] = StockMarketSymbolSearchToolArgsSchema\n",
    "\n",
    "    def _run(self, query):\n",
    "        ddg = DuckDuckGoSearchAPIWrapper()\n",
    "        return ddg.run(query)\n",
    "\n",
    "\n",
    "agent = initialize_agent(\n",
    "    llm=llm,\n",
    "    verbose=True,\n",
    "    agent=AgentType.OPENAI_FUNCTIONS,\n",
    "    handle_parsing_errors=True,\n",
    "    tools=[\n",
    "        StockMarketSymbolSearchTool(),\n",
    "    ],\n",
    ")\n",
    "\n",
    "prompt = \"Give me information on Cloudflare's stock and help me analyze if it's a potential good investment. Also tell me what symbol does the stock have.\"\n",
    "\n",
    "agent.invoke(prompt)"
   ]
  }
 ],
 "metadata": {
  "kernelspec": {
   "display_name": "env",
   "language": "python",
   "name": "python3"
  },
  "language_info": {
   "codemirror_mode": {
    "name": "ipython",
    "version": 3
   },
   "file_extension": ".py",
   "mimetype": "text/x-python",
   "name": "python",
   "nbconvert_exporter": "python",
   "pygments_lexer": "ipython3",
   "version": "3.11.6"
  }
 },
 "nbformat": 4,
 "nbformat_minor": 2
}
